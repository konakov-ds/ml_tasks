{
 "cells": [
  {
   "cell_type": "code",
   "execution_count": 3,
   "id": "3a05d891",
   "metadata": {},
   "outputs": [],
   "source": [
    "#nDCG (Normalized Discounted Cumulative Gain) \n",
    "from typing import List\n",
    "\n",
    "import numpy as np\n",
    "\n",
    "\n",
    "def cumulative_gain(relevance: List[float], k: int) -> float:\n",
    "    \"\"\"Score is cumulative gain at k (CG@k)\n",
    "\n",
    "    Parameters\n",
    "    ----------\n",
    "    relevance:  `List[float]`\n",
    "        Relevance labels (Ranks)\n",
    "    k : `int`\n",
    "        Number of elements to be counted\n",
    "\n",
    "    Returns\n",
    "    -------\n",
    "    score : float\n",
    "    \"\"\"\n",
    "    ...\n",
    "    score = np.array(relevance[:k]).sum()\n",
    "    return score"
   ]
  },
  {
   "cell_type": "code",
   "execution_count": 4,
   "id": "7444f5ac",
   "metadata": {},
   "outputs": [
    {
     "name": "stdout",
     "output_type": "stream",
     "text": [
      "4.26\n"
     ]
    }
   ],
   "source": [
    "relevance = [0.99, 0.94, 0.88, 0.74, 0.71, 0.68]\n",
    "k = 5\n",
    "print(cumulative_gain(relevance, k))"
   ]
  },
  {
   "cell_type": "code",
   "execution_count": 26,
   "id": "60971f33",
   "metadata": {},
   "outputs": [],
   "source": [
    "def discounted_cumulative_gain(\n",
    "    relevance: List[float], k: int, method: str = \"standard\"\n",
    ") -> float:\n",
    "    \"\"\"\n",
    "    Discounted Cumulative Gain\n",
    "\n",
    "    Parameters\n",
    "    ----------\n",
    "    relevance : List[float]\n",
    "        Video relevance list\n",
    "    k : `int`\n",
    "        Count relevance to compute\n",
    "    method : `str`, optional\n",
    "        Metric implementation method, takes the values​​\n",
    "        `standard` - adds weight to the denominator\n",
    "        `industry` - adds weights to the numerator and denominator\n",
    "        `raise ValueError` - for any value\n",
    "\n",
    "    Returns\n",
    "    -------\n",
    "    score : float\n",
    "        Metric score\n",
    "    \"\"\"\n",
    "    if method == 'standard':\n",
    "        return sum([rel / np.log2(2 + i) for i, rel in enumerate(relevance[: k])])\n",
    "    elif method == 'industry':\n",
    "        return sum([(2 ** rel - 1) / np.log2(2 + i) for i, rel in enumerate(relevance[: k])])\n",
    "    else:\n",
    "        raise ValueError"
   ]
  },
  {
   "cell_type": "code",
   "execution_count": 27,
   "id": "e97e6fee",
   "metadata": {},
   "outputs": [
    {
     "name": "stdout",
     "output_type": "stream",
     "text": [
      "2.520491067899354\n"
     ]
    }
   ],
   "source": [
    "relevance = [0.99, 0.94, 0.88, 0.74, 0.71, 0.68]\n",
    "k = 5\n",
    "method = 'industry'\n",
    "print(discounted_cumulative_gain(relevance, k, method))"
   ]
  },
  {
   "cell_type": "code",
   "execution_count": null,
   "id": "8c7a4bdc",
   "metadata": {},
   "outputs": [],
   "source": []
  }
 ],
 "metadata": {
  "kernelspec": {
   "display_name": "mark",
   "language": "python",
   "name": "mark"
  },
  "language_info": {
   "codemirror_mode": {
    "name": "ipython",
    "version": 3
   },
   "file_extension": ".py",
   "mimetype": "text/x-python",
   "name": "python",
   "nbconvert_exporter": "python",
   "pygments_lexer": "ipython3",
   "version": "3.10.8"
  }
 },
 "nbformat": 4,
 "nbformat_minor": 5
}
