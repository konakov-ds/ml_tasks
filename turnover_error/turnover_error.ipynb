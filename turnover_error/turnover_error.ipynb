{
 "cells": [
  {
   "cell_type": "code",
   "execution_count": 1,
   "id": "a7772ee2",
   "metadata": {},
   "outputs": [],
   "source": [
    "import numpy as np"
   ]
  },
  {
   "cell_type": "code",
   "execution_count": 3,
   "id": "360381a3",
   "metadata": {},
   "outputs": [],
   "source": [
    "def turnover_error(y_true: np.array, y_pred: np.array) -> float:\n",
    "    \"\"\"\n",
    "    asymmetric loss function penalizing for underprediction\n",
    "    \"\"\"\n",
    "    error = (((y_pred - y_true)/y_pred)**2).sum()\n",
    "    return error"
   ]
  },
  {
   "cell_type": "code",
   "execution_count": 8,
   "id": "b3835771",
   "metadata": {},
   "outputs": [],
   "source": [
    "y_true = np.random.randint(1, 10, 10)\n",
    "y_pred_under = y_true*0.9\n",
    "y_pred_upper = y_true*1.1"
   ]
  },
  {
   "cell_type": "code",
   "execution_count": 9,
   "id": "7d71b3fb",
   "metadata": {},
   "outputs": [
    {
     "data": {
      "text/plain": [
       "0.1234567901234567"
      ]
     },
     "execution_count": 9,
     "metadata": {},
     "output_type": "execute_result"
    }
   ],
   "source": [
    "turnover_error(y_true, y_pred_under)"
   ]
  },
  {
   "cell_type": "code",
   "execution_count": 10,
   "id": "824f59c2",
   "metadata": {},
   "outputs": [
    {
     "data": {
      "text/plain": [
       "0.08264462809917368"
      ]
     },
     "execution_count": 10,
     "metadata": {},
     "output_type": "execute_result"
    }
   ],
   "source": [
    "turnover_error(y_true, y_pred_upper)"
   ]
  },
  {
   "cell_type": "code",
   "execution_count": 18,
   "id": "127687a1",
   "metadata": {},
   "outputs": [],
   "source": [
    "def ltv_error(y_true: np.array, y_pred: np.array) -> float:\n",
    "    \"\"\"\n",
    "    asymmetric loss function penalizing for over-prediction\n",
    "    \"\"\"\n",
    "    error = ((np.log(1 + y_pred) * (y_pred - y_true))**2).sum()\n",
    "    return error"
   ]
  },
  {
   "cell_type": "code",
   "execution_count": 19,
   "id": "e6d88ad5",
   "metadata": {},
   "outputs": [
    {
     "data": {
      "text/plain": [
       "3.590680143757817"
      ]
     },
     "execution_count": 19,
     "metadata": {},
     "output_type": "execute_result"
    }
   ],
   "source": [
    "ltv_error(y_true, y_pred_under)"
   ]
  },
  {
   "cell_type": "code",
   "execution_count": 20,
   "id": "2fdb0d64",
   "metadata": {},
   "outputs": [
    {
     "data": {
      "text/plain": [
       "4.31780867458112"
      ]
     },
     "execution_count": 20,
     "metadata": {},
     "output_type": "execute_result"
    }
   ],
   "source": [
    "ltv_error(y_true, y_pred_upper)"
   ]
  },
  {
   "cell_type": "code",
   "execution_count": null,
   "id": "7bbe960f",
   "metadata": {},
   "outputs": [],
   "source": []
  }
 ],
 "metadata": {
  "kernelspec": {
   "display_name": "mark",
   "language": "python",
   "name": "mark"
  },
  "language_info": {
   "codemirror_mode": {
    "name": "ipython",
    "version": 3
   },
   "file_extension": ".py",
   "mimetype": "text/x-python",
   "name": "python",
   "nbconvert_exporter": "python",
   "pygments_lexer": "ipython3",
   "version": "3.10.8"
  }
 },
 "nbformat": 4,
 "nbformat_minor": 5
}
