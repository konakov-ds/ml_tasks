{
 "cells": [
  {
   "cell_type": "code",
   "execution_count": 1,
   "id": "4c90723d",
   "metadata": {},
   "outputs": [],
   "source": [
    "from typing import List\n",
    "import re\n",
    "import random"
   ]
  },
  {
   "cell_type": "code",
   "execution_count": 2,
   "id": "701235f3",
   "metadata": {},
   "outputs": [],
   "source": [
    "# Old version\n",
    "def valid_emails(strings: List[str]) -> List[str]:\n",
    "    \"\"\"Take list of potential emails and returns only valid ones\"\"\"\n",
    "\n",
    "    valid_email_regex = \"^[a-zA-Z0-9+_.-]+@[a-zA-Z0-9.-]+$\"\n",
    "\n",
    "    def is_valid_email(email: str) -> bool:\n",
    "        return bool(re.fullmatch(valid_email_regex, email))\n",
    "\n",
    "    emails = []\n",
    "    for email in strings:\n",
    "        if is_valid_email(email):\n",
    "            emails.append(email)\n",
    "\n",
    "    return emails"
   ]
  },
  {
   "cell_type": "code",
   "execution_count": 3,
   "id": "e91d17d0",
   "metadata": {},
   "outputs": [],
   "source": [
    "# fastest version with compile\n",
    "def valid_emails_fast(strings: List[str]) -> List[str]:\n",
    "    \"\"\"Take list of potential emails and returns only valid ones\"\"\"\n",
    "\n",
    "    valid_email_regex = \"^[a-zA-Z0-9+_.-]+@[a-zA-Z0-9.-]+$\"\n",
    "    email_regex_compiled = re.compile(valid_email_regex)\n",
    "\n",
    "    def is_valid_email(email: str) -> bool:\n",
    "        return bool(email_regex_compiled.fullmatch(email))\n",
    "\n",
    "    emails = []\n",
    "    for email in strings:\n",
    "        if is_valid_email(email):\n",
    "            emails.append(email)\n",
    "\n",
    "    return emails"
   ]
  },
  {
   "cell_type": "code",
   "execution_count": 4,
   "id": "7bb03fa5",
   "metadata": {},
   "outputs": [],
   "source": [
    "# generate random strings\n",
    "symbols = 'abcdefghjklmn1234567890#@.'\n",
    "strings = [''.join(random.choices(symbols,k=10)) for _ in range(10**6)]"
   ]
  },
  {
   "cell_type": "code",
   "execution_count": 5,
   "id": "37b8e125",
   "metadata": {},
   "outputs": [
    {
     "name": "stdout",
     "output_type": "stream",
     "text": [
      "CPU times: user 614 ms, sys: 10.6 ms, total: 625 ms\n",
      "Wall time: 623 ms\n"
     ]
    }
   ],
   "source": [
    "%%time\n",
    "# test old version valid_emails\n",
    "emails = valid_emails(strings)"
   ]
  },
  {
   "cell_type": "code",
   "execution_count": 6,
   "id": "da32050a",
   "metadata": {},
   "outputs": [
    {
     "name": "stdout",
     "output_type": "stream",
     "text": [
      "CPU times: user 304 ms, sys: 4.52 ms, total: 309 ms\n",
      "Wall time: 308 ms\n"
     ]
    }
   ],
   "source": [
    "%%time\n",
    "# test new version valid_emails\n",
    "emails_new = valid_emails_fast(strings)"
   ]
  },
  {
   "cell_type": "code",
   "execution_count": 7,
   "id": "67e9237e",
   "metadata": {},
   "outputs": [
    {
     "data": {
      "text/plain": [
       "True"
      ]
     },
     "execution_count": 7,
     "metadata": {},
     "output_type": "execute_result"
    }
   ],
   "source": [
    "# sanity check\n",
    "emails_new == emails"
   ]
  },
  {
   "cell_type": "code",
   "execution_count": null,
   "id": "c9297bec",
   "metadata": {},
   "outputs": [],
   "source": []
  }
 ],
 "metadata": {
  "kernelspec": {
   "display_name": "mark",
   "language": "python",
   "name": "mark"
  },
  "language_info": {
   "codemirror_mode": {
    "name": "ipython",
    "version": 3
   },
   "file_extension": ".py",
   "mimetype": "text/x-python",
   "name": "python",
   "nbconvert_exporter": "python",
   "pygments_lexer": "ipython3",
   "version": "3.10.8"
  }
 },
 "nbformat": 4,
 "nbformat_minor": 5
}
